{
 "cells": [
  {
   "cell_type": "markdown",
   "metadata": {},
   "source": [
    "# Coding done by: Raghav Sharma K18AW 16"
   ]
  },
  {
   "cell_type": "markdown",
   "metadata": {},
   "source": [
    "# Simple Artificial Intelligence Game- Tic Tac Toe"
   ]
  },
  {
   "cell_type": "markdown",
   "metadata": {},
   "source": [
    "# Introduction\n",
    "In this project I am going got built a game of tic tac toe.\n",
    "In this python program, there will be two players; one human; you and other the cpu which we will train to play in such a way that it either try to win or try not to lose.\n",
    "This will be a function based python code in which I will be using different sub functions to call one main function.\n",
    "Lets start"
   ]
  },
  {
   "cell_type": "markdown",
   "metadata": {},
   "source": [
    "# Creating a base of game\n",
    "First off, I will create a base on which the game will be played.\n",
    "this will be list based variable in which there are empty spaces \"  \"\n",
    "ranging from 1 to 9"
   ]
  },
  {
   "cell_type": "code",
   "execution_count": null,
   "metadata": {},
   "outputs": [],
   "source": [
    "base = [' ' for i in range(10)]#this is going to store our symbols"
   ]
  },
  {
   "cell_type": "markdown",
   "metadata": {},
   "source": [
    "# Check if space is free\n",
    "Next, I am going to create my first function that will be to check whether the base we create is empty or not. I will name this as used()\n",
    "this will take one argument and that will be the position of the dice on the base.\n",
    "It will return me a boolean value , if the position is filled on the base of not. True or False"
   ]
  },
  {
   "cell_type": "code",
   "execution_count": null,
   "metadata": {},
   "outputs": [],
   "source": [
    "def used(position):\n",
    "    return base[position] == ' '#this will return a boolean value"
   ]
  },
  {
   "cell_type": "markdown",
   "metadata": {},
   "source": [
    "# Add the dice to position\n",
    "Now, I want to crete a function name symbol() that will take 2 arguments. symbol() will put our dice on the position. And those will be the 2 arguments; which is the dice and the postion."
   ]
  },
  {
   "cell_type": "code",
   "execution_count": null,
   "metadata": {},
   "outputs": [],
   "source": [
    "def symbol(dice, position):#this is going to store the posistion at which the dice is placed\n",
    "    base[position] = dice"
   ]
  },
  {
   "cell_type": "markdown",
   "metadata": {},
   "source": [
    "# Defining the winning conditions\n",
    "Now, I create a function called win() that will take 2 arguments.\n",
    "The purpose of this function is to whether the player that just moved its dice satisfy the winning condition or not. \n",
    "2 arguments will be the position and the dice.\n",
    "there are total of 8 winning conditions."
   ]
  },
  {
   "cell_type": "code",
   "execution_count": null,
   "metadata": {},
   "outputs": [],
   "source": [
    "def win(p,s):  #defines the winning conditions\n",
    "    return (p[1] == s and p[2] == s and p[3] == s)or(p[1] == s and p[4] == s and p[7] == s)or(p[1] == s and p[5] == s and p[9] == s)or(p[2] == s and p[5] == s and p[8] == s)or(p[3] == s and p[6] == s and p[9] == s)or(p[4] == s and p[5] == s and p[6] == s)or(p[7] == s and p[5] == s and p[3] == s)or(p[7] == s and p[8] == s and p[9] == s)"
   ]
  },
  {
   "cell_type": "markdown",
   "metadata": {},
   "source": [
    "# Interface of the game\n",
    "Now, we print the base interface for tha game.\n",
    "This function printInterface() will take the base list as argument that I created earlier in the first line"
   ]
  },
  {
   "cell_type": "code",
   "execution_count": null,
   "metadata": {},
   "outputs": [],
   "source": [
    "def printInterface(base):\n",
    "    print('   |   |')\n",
    "    print(' ' + base[1] + ' | ' + base[2] + ' | ' + base[3])\n",
    "    print('   |   |')\n",
    "    print('-----------')\n",
    "    print('   |   |')\n",
    "    print(' ' + base[4] + ' | ' + base[5] + ' | ' + base[6])\n",
    "    print('   |   |')\n",
    "    print('-----------')\n",
    "    print('   |   |')\n",
    "    print(' ' + base[7] + ' | ' + base[8] + ' | ' + base[9])\n",
    "    print('   |   |')"
   ]
  },
  {
   "cell_type": "markdown",
   "metadata": {},
   "source": [
    "# Taking input from user\n",
    "Next up,I will create a function called human() that will take no arguments. This function will do 3 things:\n",
    "1.Ask the user for input of position of their dice.\n",
    "2.Validating the input from the user.\n",
    "3.If valid input then add it to the baseInterface\n",
    "\n",
    "This will use the following functions:\n",
    "1.used() for checking the postion whether valid or not\n",
    "2.symbol() for adding the dice to the position if valid."
   ]
  },
  {
   "cell_type": "code",
   "execution_count": null,
   "metadata": {},
   "outputs": [],
   "source": [
    "def human():\n",
    "    takeinput = True #\n",
    "    while takeinput:\n",
    "        chance = input('\\t\\tIts your turn, Place the dice:')\n",
    "        try:   #for checking that user enters only an integer\n",
    "            chance = int(chance)\n",
    "            if chance > 0 and chance < 10:  #check whether the input is within the range of 0 to 9\n",
    "                if used(chance):\n",
    "                    takeinput= False  #if user has entered valid input then we need  not run the loop to check that\n",
    "                    symbol('X', chance) #then we add the dice into the base\n",
    "                else:  #if the space is used loop again\n",
    "                    print('\\t\\tThis space has already been used, try again!')\n",
    "            else: #if the integer is >9 or 0 ;invalid loop again\n",
    "                print('\\t\\tNumber is greater than 9 or 0. Try again!')\n",
    "        except: #if the user does not enters a number\n",
    "            print('\\t\\tPlease type an integer only.')"
   ]
  },
  {
   "cell_type": "markdown",
   "metadata": {},
   "source": [
    "# Teaching the CPU how to play\n",
    "Next, I will actually move to teaching the cpu how to play the game. \"The real AI stuff\".\n",
    "In this we will create a function called as cpu() taking no argument.\n",
    "The cpu will decide and try to make the best move."
   ]
  },
  {
   "cell_type": "code",
   "execution_count": null,
   "metadata": {},
   "outputs": [],
   "source": [
    "def cpu():\n",
    "    #creating a list that will contain all the possible moves that the cpu can have\n",
    "    pm = [a for a, letter in enumerate(base) if letter == ' ' and a != 0]\n",
    "    #enumerate will give me all the combinations of letters and its position on the base\n",
    "    #This is a for loop, returning the letter for which it is blank and it is not zero.\n",
    "    #pm will be a list that helps the cpu to decide what are the various spaces it can move to.\n",
    "    \n",
    "    chance = 0   # this is default variable; if at the end it is not changed then we print that is TIE GAME\n",
    "   \n",
    "   #create a copy of the base interface and check for all the possible moves\n",
    "    for let in ['O', 'X']:#checking who is going to win first for human then cpu\n",
    "        for i in pm:\n",
    "            baseCopy = base[:]      #base copy created using slicing of list.\n",
    "            baseCopy[i] = let       #place symbol in the base copy\n",
    "            if win(baseCopy, let):  #now checking if that position will win the game \n",
    "                chance = i          #change the chance variable to this winning letter position\n",
    "                return chance\n",
    "            \n",
    "   #if after checking that in the next step nobody can win         \n",
    "   #check if open corners\n",
    "    corner = []\n",
    "    for i in pm:     #if any corners are available then we add them to the list corner\n",
    "        if i in [7,1,3,9]:\n",
    "            corner.append(i)  \n",
    "            \n",
    "    if len(corner) > 0:#if multiple corners are available then select any one at random\n",
    "        chance = ran(corner)  #use of random function \n",
    "        return chance\n",
    "    \n",
    "    #check if center is open\n",
    "    if 5 in pm:\n",
    "        chance = 5\n",
    "        return chance\n",
    "    #check if any other space is open\n",
    "    edge = []\n",
    "    for i in pm:    #if space are available then we add them to the list a\n",
    "        if i in [2,4,6,8]:\n",
    "            edge.append(i)\n",
    "            \n",
    "    if len(edge) > 0:#If multiple edges are available then select one at random\n",
    "        chance = ran(edge)\n",
    "        \n",
    "    return chance"
   ]
  },
  {
   "cell_type": "markdown",
   "metadata": {},
   "source": [
    "# random function"
   ]
  },
  {
   "cell_type": "code",
   "execution_count": null,
   "metadata": {},
   "outputs": [],
   "source": [
    "def ran(lst):#it will help in selecting a random number for selecting a space\n",
    "    import random\n",
    "    l = len(lst)\n",
    "    r = random.randrange(0,l)\n",
    "    return lst[r]"
   ]
  },
  {
   "cell_type": "markdown",
   "metadata": {},
   "source": [
    "# Checking if all spaces are filled, and base is full.\n",
    "Now, I create a function called baseout() it will take 1 argument of the base.\n",
    "This will return a boolean value.\n",
    "if base is full, then True if not then False. simple as that"
   ]
  },
  {
   "cell_type": "code",
   "execution_count": null,
   "metadata": {},
   "outputs": [],
   "source": [
    "def baseout(base):\n",
    "    if base.count(' ') > 1:\n",
    "        return False\n",
    "    else:\n",
    "        return True"
   ]
  },
  {
   "cell_type": "markdown",
   "metadata": {},
   "source": [
    "# creating the main function\n",
    "Now that every sub function is created I am ready to create my main function\n",
    "This will not take any arguments"
   ]
  },
  {
   "cell_type": "code",
   "execution_count": null,
   "metadata": {},
   "outputs": [],
   "source": [
    "def play():\n",
    "    print('\\t\\t****Welcome to the game of Tic Tac Toe****')\n",
    "    printInterface(base)   #start off by printing a blank baseInterface\n",
    "\n",
    "    while not(baseout(base)):   #this loop will run until base is not out of spaces\n",
    "        if not(win(base, 'O')): #check if CPU has won the game and if not then continue\n",
    "            human()         #run the human() and take inputs from the user\n",
    "            printInterface(base)  #print the base again \n",
    "        else:     #if CPU has won the game\n",
    "            print('\\t\\t****Game over ! CPU won the game****') \n",
    "            break\n",
    "\n",
    "        if not(win(base, 'X')): #check if human has won the game and if not continue\n",
    "            chance = cpu()  #assign the cpu() to a variable \n",
    "            if chance == 0:  #if there are nowhere to put the dice then end\n",
    "                print('\\t\\t****Tie Game****')\n",
    "            else:\n",
    "                symbol('O', chance)\n",
    "                print('\\t\\tThe CPU placed its dice.')\n",
    "                printInterface(base)\n",
    "        else:  #if Human has already won the game \n",
    "            print('\\t\\t****Game over ! Human won the game****')\n",
    "            break\n",
    "\n",
    "    if baseout(base): #if base is full, then game is Over.\n",
    "        print('\\t\\tGame Over****')"
   ]
  },
  {
   "cell_type": "markdown",
   "metadata": {},
   "source": [
    "# Finishing up\n",
    "Now every function is complete and we need to start the game and prompt the user if he wishes to play again"
   ]
  },
  {
   "cell_type": "code",
   "execution_count": null,
   "metadata": {},
   "outputs": [],
   "source": [
    "while True:  #game loop \n",
    "    restart= input('\\t\\t\\t****START THE GAME?\\n\\t\\t\\tPress \"y\" to play!') #take input from user to play\n",
    "    if restart.lower() == 'y': #only accpets y as an answer otherwise quit\n",
    "        base= [' ' for x in range(10)]\n",
    "        print('\\n\\n\\t\\t\\t*****************************')\n",
    "        play()\n",
    "    else:    \n",
    "        break"
   ]
  },
  {
   "cell_type": "markdown",
   "metadata": {},
   "source": [
    "# Coding done by: Raghav Sharma K18AW 16"
   ]
  },
  {
   "cell_type": "code",
   "execution_count": null,
   "metadata": {},
   "outputs": [],
   "source": []
  }
 ],
 "metadata": {
  "kernelspec": {
   "display_name": "Python 3",
   "language": "python",
   "name": "python3"
  },
  "language_info": {
   "codemirror_mode": {
    "name": "ipython",
    "version": 3
   },
   "file_extension": ".py",
   "mimetype": "text/x-python",
   "name": "python",
   "nbconvert_exporter": "python",
   "pygments_lexer": "ipython3",
   "version": "3.7.3"
  }
 },
 "nbformat": 4,
 "nbformat_minor": 2
}
